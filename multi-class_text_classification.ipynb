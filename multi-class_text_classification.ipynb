{
  "cells": [
    {
      "cell_type": "markdown",
      "metadata": {
        "id": "L26Z7sNQYtmw"
      },
      "source": [
        "#Design of LSTM and GRU RNN for classification of IMDB reviews"
      ]
    },
    {
      "cell_type": "markdown",
      "metadata": {
        "id": "WxuKBTPsYmg4"
      },
      "source": [
        "#Importing Libraries"
      ]
    },
    {
      "cell_type": "code",
      "execution_count": null,
      "metadata": {
        "id": "4VmEn0_CYpeI"
      },
      "outputs": [],
      "source": [
        "                            import numpy as np\n",
        "from keras.models import Sequential\n",
        "from keras.preprocessing import sequence\n",
        "from keras.layers import Dropout\n",
        "from keras.layers import  Dense, Embedding, LSTM, Bidirectional"
      ]
    },
    {
      "cell_type": "markdown",
      "metadata": {
        "id": "NJ0zrx-RZQG_"
      },
      "source": [
        "Open the data set"
      ]
    },
    {
      "cell_type": "code",
      "execution_count": null,
      "metadata": {
        "id": "VZcjgXsoog1I"
      },
      "outputs": [],
      "source": [
        "import pandas as pd"
      ]
    },
    {
      "cell_type": "code",
      "execution_count": null,
      "metadata": {
        "colab": {
          "base_uri": "https://localhost:8080/",
          "height": 206
        },
        "id": "rQvmZRxZkMTE",
        "outputId": "0c6dcfc5-3f75-4f4e-a541-8e890e49fedf"
      },
      "outputs": [
        {
          "data": {
            "text/html": [
              "\n",
              "  <div id=\"df-7c524b0a-ed67-4fd7-a416-b7f77a8a1d6f\">\n",
              "    <div class=\"colab-df-container\">\n",
              "      <div>\n",
              "<style scoped>\n",
              "    .dataframe tbody tr th:only-of-type {\n",
              "        vertical-align: middle;\n",
              "    }\n",
              "\n",
              "    .dataframe tbody tr th {\n",
              "        vertical-align: top;\n",
              "    }\n",
              "\n",
              "    .dataframe thead th {\n",
              "        text-align: right;\n",
              "    }\n",
              "</style>\n",
              "<table border=\"1\" class=\"dataframe\">\n",
              "  <thead>\n",
              "    <tr style=\"text-align: right;\">\n",
              "      <th></th>\n",
              "      <th>review</th>\n",
              "      <th>sentiment</th>\n",
              "    </tr>\n",
              "  </thead>\n",
              "  <tbody>\n",
              "    <tr>\n",
              "      <th>0</th>\n",
              "      <td>One of the other reviewers has mentioned that ...</td>\n",
              "      <td>positive</td>\n",
              "    </tr>\n",
              "    <tr>\n",
              "      <th>1</th>\n",
              "      <td>A wonderful little production. &lt;br /&gt;&lt;br /&gt;The...</td>\n",
              "      <td>positive</td>\n",
              "    </tr>\n",
              "    <tr>\n",
              "      <th>2</th>\n",
              "      <td>I thought this was a wonderful way to spend ti...</td>\n",
              "      <td>positive</td>\n",
              "    </tr>\n",
              "    <tr>\n",
              "      <th>3</th>\n",
              "      <td>Basically there's a family where a little boy ...</td>\n",
              "      <td>negative</td>\n",
              "    </tr>\n",
              "    <tr>\n",
              "      <th>4</th>\n",
              "      <td>Petter Mattei's \"Love in the Time of Money\" is...</td>\n",
              "      <td>positive</td>\n",
              "    </tr>\n",
              "  </tbody>\n",
              "</table>\n",
              "</div>\n",
              "      <button class=\"colab-df-convert\" onclick=\"convertToInteractive('df-7c524b0a-ed67-4fd7-a416-b7f77a8a1d6f')\"\n",
              "              title=\"Convert this dataframe to an interactive table.\"\n",
              "              style=\"display:none;\">\n",
              "        \n",
              "  <svg xmlns=\"http://www.w3.org/2000/svg\" height=\"24px\"viewBox=\"0 0 24 24\"\n",
              "       width=\"24px\">\n",
              "    <path d=\"M0 0h24v24H0V0z\" fill=\"none\"/>\n",
              "    <path d=\"M18.56 5.44l.94 2.06.94-2.06 2.06-.94-2.06-.94-.94-2.06-.94 2.06-2.06.94zm-11 1L8.5 8.5l.94-2.06 2.06-.94-2.06-.94L8.5 2.5l-.94 2.06-2.06.94zm10 10l.94 2.06.94-2.06 2.06-.94-2.06-.94-.94-2.06-.94 2.06-2.06.94z\"/><path d=\"M17.41 7.96l-1.37-1.37c-.4-.4-.92-.59-1.43-.59-.52 0-1.04.2-1.43.59L10.3 9.45l-7.72 7.72c-.78.78-.78 2.05 0 2.83L4 21.41c.39.39.9.59 1.41.59.51 0 1.02-.2 1.41-.59l7.78-7.78 2.81-2.81c.8-.78.8-2.07 0-2.86zM5.41 20L4 18.59l7.72-7.72 1.47 1.35L5.41 20z\"/>\n",
              "  </svg>\n",
              "      </button>\n",
              "      \n",
              "  <style>\n",
              "    .colab-df-container {\n",
              "      display:flex;\n",
              "      flex-wrap:wrap;\n",
              "      gap: 12px;\n",
              "    }\n",
              "\n",
              "    .colab-df-convert {\n",
              "      background-color: #E8F0FE;\n",
              "      border: none;\n",
              "      border-radius: 50%;\n",
              "      cursor: pointer;\n",
              "      display: none;\n",
              "      fill: #1967D2;\n",
              "      height: 32px;\n",
              "      padding: 0 0 0 0;\n",
              "      width: 32px;\n",
              "    }\n",
              "\n",
              "    .colab-df-convert:hover {\n",
              "      background-color: #E2EBFA;\n",
              "      box-shadow: 0px 1px 2px rgba(60, 64, 67, 0.3), 0px 1px 3px 1px rgba(60, 64, 67, 0.15);\n",
              "      fill: #174EA6;\n",
              "    }\n",
              "\n",
              "    [theme=dark] .colab-df-convert {\n",
              "      background-color: #3B4455;\n",
              "      fill: #D2E3FC;\n",
              "    }\n",
              "\n",
              "    [theme=dark] .colab-df-convert:hover {\n",
              "      background-color: #434B5C;\n",
              "      box-shadow: 0px 1px 3px 1px rgba(0, 0, 0, 0.15);\n",
              "      filter: drop-shadow(0px 1px 2px rgba(0, 0, 0, 0.3));\n",
              "      fill: #FFFFFF;\n",
              "    }\n",
              "  </style>\n",
              "\n",
              "      <script>\n",
              "        const buttonEl =\n",
              "          document.querySelector('#df-7c524b0a-ed67-4fd7-a416-b7f77a8a1d6f button.colab-df-convert');\n",
              "        buttonEl.style.display =\n",
              "          google.colab.kernel.accessAllowed ? 'block' : 'none';\n",
              "\n",
              "        async function convertToInteractive(key) {\n",
              "          const element = document.querySelector('#df-7c524b0a-ed67-4fd7-a416-b7f77a8a1d6f');\n",
              "          const dataTable =\n",
              "            await google.colab.kernel.invokeFunction('convertToInteractive',\n",
              "                                                     [key], {});\n",
              "          if (!dataTable) return;\n",
              "\n",
              "          const docLinkHtml = 'Like what you see? Visit the ' +\n",
              "            '<a target=\"_blank\" href=https://colab.research.google.com/notebooks/data_table.ipynb>data table notebook</a>'\n",
              "            + ' to learn more about interactive tables.';\n",
              "          element.innerHTML = '';\n",
              "          dataTable['output_type'] = 'display_data';\n",
              "          await google.colab.output.renderOutput(dataTable, element);\n",
              "          const docLink = document.createElement('div');\n",
              "          docLink.innerHTML = docLinkHtml;\n",
              "          element.appendChild(docLink);\n",
              "        }\n",
              "      </script>\n",
              "    </div>\n",
              "  </div>\n",
              "  "
            ],
            "text/plain": [
              "                                              review sentiment\n",
              "0  One of the other reviewers has mentioned that ...  positive\n",
              "1  A wonderful little production. <br /><br />The...  positive\n",
              "2  I thought this was a wonderful way to spend ti...  positive\n",
              "3  Basically there's a family where a little boy ...  negative\n",
              "4  Petter Mattei's \"Love in the Time of Money\" is...  positive"
            ]
          },
          "execution_count": 27,
          "metadata": {},
          "output_type": "execute_result"
        }
      ],
      "source": [
        "df=pd.read_csv('IMDB Dataset.csv')\n",
        "df.head()"
      ]
    },
    {
      "cell_type": "code",
      "execution_count": null,
      "metadata": {
        "colab": {
          "base_uri": "https://localhost:8080/"
        },
        "id": "gCY0GD2jowPA",
        "outputId": "5aa76f8f-b6da-4ab6-c1f7-6129a21d7c8a"
      },
      "outputs": [
        {
          "data": {
            "text/plain": [
              "Index(['review', 'sentiment'], dtype='object')"
            ]
          },
          "execution_count": 28,
          "metadata": {},
          "output_type": "execute_result"
        }
      ],
      "source": [
        "df.columns"
      ]
    },
    {
      "cell_type": "code",
      "execution_count": null,
      "metadata": {
        "colab": {
          "base_uri": "https://localhost:8080/"
        },
        "id": "JTVB9MWQowMI",
        "outputId": "c70824c0-01e4-421d-d9e7-b8c6520a43f2"
      },
      "outputs": [
        {
          "name": "stdout",
          "output_type": "stream",
          "text": [
            "<class 'pandas.core.frame.DataFrame'>\n",
            "RangeIndex: 50000 entries, 0 to 49999\n",
            "Data columns (total 2 columns):\n",
            " #   Column     Non-Null Count  Dtype \n",
            "---  ------     --------------  ----- \n",
            " 0   review     50000 non-null  object\n",
            " 1   sentiment  50000 non-null  object\n",
            "dtypes: object(2)\n",
            "memory usage: 781.4+ KB\n"
          ]
        }
      ],
      "source": [
        "df.info()"
      ]
    },
    {
      "cell_type": "code",
      "execution_count": null,
      "metadata": {
        "colab": {
          "base_uri": "https://localhost:8080/"
        },
        "id": "jvslAfTjowH4",
        "outputId": "670e4ed6-8837-4d41-f152-55135c57b810"
      },
      "outputs": [
        {
          "data": {
            "text/plain": [
              "<bound method NDFrame.describe of                                                   review sentiment\n",
              "0      One of the other reviewers has mentioned that ...  positive\n",
              "1      A wonderful little production. <br /><br />The...  positive\n",
              "2      I thought this was a wonderful way to spend ti...  positive\n",
              "3      Basically there's a family where a little boy ...  negative\n",
              "4      Petter Mattei's \"Love in the Time of Money\" is...  positive\n",
              "...                                                  ...       ...\n",
              "49995  I thought this movie did a down right good job...  positive\n",
              "49996  Bad plot, bad dialogue, bad acting, idiotic di...  negative\n",
              "49997  I am a Catholic taught in parochial elementary...  negative\n",
              "49998  I'm going to have to disagree with the previou...  negative\n",
              "49999  No one expects the Star Trek movies to be high...  negative\n",
              "\n",
              "[50000 rows x 2 columns]>"
            ]
          },
          "execution_count": 30,
          "metadata": {},
          "output_type": "execute_result"
        }
      ],
      "source": [
        "df.describe"
      ]
    },
    {
      "cell_type": "code",
      "execution_count": null,
      "metadata": {
        "id": "Vl8a-4Zxq4je"
      },
      "outputs": [],
      "source": [
        "from nltk.corpus import stopwords"
      ]
    },
    {
      "cell_type": "code",
      "execution_count": null,
      "metadata": {
        "colab": {
          "base_uri": "https://localhost:8080/"
        },
        "id": "7OdmzJl3rUFF",
        "outputId": "c1adb975-c3ec-429e-860d-61faf0894011"
      },
      "outputs": [
        {
          "name": "stderr",
          "output_type": "stream",
          "text": [
            "[nltk_data] Downloading package stopwords to /root/nltk_data...\n",
            "[nltk_data]   Package stopwords is already up-to-date!\n"
          ]
        }
      ],
      "source": [
        "import numpy as np\n",
        "import pandas as pd \n",
        "import matplotlib.pyplot as plt \n",
        "import nltk \n",
        "from sklearn.model_selection import train_test_split \n",
        "from tensorflow.keras.preprocessing. text import Tokenizer \n",
        "from tensorflow.keras.preprocessing.sequence import pad_sequences \n",
        "from tensorflow.keras.optimizers import RMSprop , Adam \n",
        "from keras.models import Sequential \n",
        "from keras.layers import Dense, Embedding, SimpleRNN, LSTM, Bidirectional, Dropout\n",
        "from nltk.corpus import stopwords \n",
        "nltk.download('stopwords')\n",
        "\",\".join(stopwords.words('english')) \n",
        "STOPWORDS = set(stopwords.words('english')) \n"
      ]
    },
    {
      "cell_type": "code",
      "execution_count": null,
      "metadata": {
        "id": "TFZfYipHp-Lw"
      },
      "outputs": [],
      "source": [
        "y =df['sentiment'] \n",
        "X=[] \n",
        "for review in df['review']: \n",
        "    filtered_sentence = [w.lower() for w in review.split() if not w in STOPWORDS ] \n",
        "    X.append(filtered_sentence) \n",
        "X = pd.Series(X) \n"
      ]
    },
    {
      "cell_type": "code",
      "execution_count": null,
      "metadata": {
        "id": "ePz7CaXbsxRN"
      },
      "outputs": [],
      "source": [
        "y_tokenizer = Tokenizer() \n",
        "y_tokenizer.fit_on_texts(y) \n",
        "y_seq = np.array(y_tokenizer.texts_to_sequences (y)) \n"
      ]
    },
    {
      "cell_type": "code",
      "execution_count": null,
      "metadata": {
        "colab": {
          "base_uri": "https://localhost:8080/"
        },
        "id": "sxwN_qyEs64V",
        "outputId": "2dc3b4aa-56f5-4860-9957-d8134df3a8b6"
      },
      "outputs": [
        {
          "data": {
            "text/plain": [
              "{'<oov>': 1,\n",
              " 'i': 2,\n",
              " '/><br': 3,\n",
              " 'the': 4,\n",
              " 'movie': 5,\n",
              " 'film': 6,\n",
              " 'one': 7,\n",
              " 'like': 8,\n",
              " 'this': 9,\n",
              " 'would': 10,\n",
              " 'even': 11,\n",
              " 'good': 12,\n",
              " 'really': 13,\n",
              " 'it': 14,\n",
              " 'see': 15}"
            ]
          },
          "execution_count": 48,
          "metadata": {},
          "output_type": "execute_result"
        }
      ],
      "source": [
        "x_token = Tokenizer(num_words=5000,oov_token='<oov>') \n",
        "x_token.fit_on_texts(X) \n",
        "word_index = x_token.word_index \n",
        "X_sequence = x_token.texts_to_sequences(X) \n",
        "dict(list(word_index.items())[0:15]) "
      ]
    },
    {
      "cell_type": "code",
      "execution_count": null,
      "metadata": {
        "id": "SsmE8Omqnr7T"
      },
      "outputs": [],
      "source": [
        "x_padding= pad_sequences (X_sequence, maxlen=200, padding='post')  "
      ]
    },
    {
      "cell_type": "code",
      "execution_count": null,
      "metadata": {
        "colab": {
          "base_uri": "https://localhost:8080/"
        },
        "id": "xWdxmUoTtsK4",
        "outputId": "1cf66c5b-4364-4a69-90af-330d92454375"
      },
      "outputs": [
        {
          "name": "stdout",
          "output_type": "stream",
          "text": [
            "(50000, 1)\n",
            "(50000, 200)\n"
          ]
        }
      ],
      "source": [
        "print(y_seq.shape) \n",
        "print(x_padding.shape)"
      ]
    },
    {
      "cell_type": "markdown",
      "metadata": {
        "id": "1ZANLtwfuRwk"
      },
      "source": [
        "Dataset preparation"
      ]
    },
    {
      "cell_type": "code",
      "execution_count": null,
      "metadata": {
        "id": "OflvCWE2tuwE"
      },
      "outputs": [],
      "source": [
        "x_train, x_test,y_train,y_test = train_test_split(x_padding, y_seq, train_size=0.7)"
      ]
    },
    {
      "cell_type": "code",
      "execution_count": null,
      "metadata": {
        "colab": {
          "base_uri": "https://localhost:8080/"
        },
        "id": "EdPuHgHVuWqD",
        "outputId": "c89602ba-e085-4b5f-ca54-1bc915966f4c"
      },
      "outputs": [
        {
          "name": "stdout",
          "output_type": "stream",
          "text": [
            "(35000, 200) (15000, 200)\n",
            "(35000, 1) (15000, 1)\n"
          ]
        }
      ],
      "source": [
        "print(x_train.shape, x_test.shape) \n",
        "print(y_train.shape, y_test.shape)"
      ]
    },
    {
      "cell_type": "markdown",
      "metadata": {
        "id": "gGDWOl3_urzy"
      },
      "source": [
        "Model creation"
      ]
    },
    {
      "cell_type": "code",
      "execution_count": null,
      "metadata": {
        "id": "bbK00CSvugth"
      },
      "outputs": [],
      "source": [
        "vocab_size = 5000 \n",
        "embedding_dim = 64 \n",
        "max_length = 200 "
      ]
    },
    {
      "cell_type": "code",
      "execution_count": null,
      "metadata": {
        "id": "nUgswf_muz3y"
      },
      "outputs": [],
      "source": [
        "model1 = Sequential() \n",
        "model1.add(Embedding(vocab_size, embedding_dim)) \n",
        "model1.add(LSTM(embedding_dim)) \n",
        "model1.add(Dense(embedding_dim, activation='tanh')) \n",
        "model1.add(Dense(6, activation='softmax')) "
      ]
    },
    {
      "cell_type": "code",
      "execution_count": null,
      "metadata": {
        "colab": {
          "base_uri": "https://localhost:8080/"
        },
        "id": "VP-pwENVvSLw",
        "outputId": "dbcfa410-e2c1-4bdc-8167-f4176ecebc16"
      },
      "outputs": [
        {
          "name": "stdout",
          "output_type": "stream",
          "text": [
            "Model: \"sequential_3\"\n",
            "_________________________________________________________________\n",
            " Layer (type)                Output Shape              Param #   \n",
            "=================================================================\n",
            " embedding_1 (Embedding)     (None, None, 64)          320000    \n",
            "                                                                 \n",
            " lstm_1 (LSTM)               (None, 64)                33024     \n",
            "                                                                 \n",
            " dense_1 (Dense)             (None, 64)                4160      \n",
            "                                                                 \n",
            " dense_2 (Dense)             (None, 6)                 390       \n",
            "                                                                 \n",
            "=================================================================\n",
            "Total params: 357,574\n",
            "Trainable params: 357,574\n",
            "Non-trainable params: 0\n",
            "_________________________________________________________________\n"
          ]
        }
      ],
      "source": [
        "model1.summary()"
      ]
    },
    {
      "cell_type": "code",
      "execution_count": null,
      "metadata": {
        "id": "wp56d6yrvYNf"
      },
      "outputs": [],
      "source": [
        "model1.compile(optimizer='adam',loss='sparse_categorical_crossentropy',metrics=['accuracy']) \n"
      ]
    },
    {
      "cell_type": "code",
      "execution_count": null,
      "metadata": {
        "colab": {
          "background_save": true,
          "base_uri": "https://localhost:8080/"
        },
        "id": "O2DnLY6HvjlY",
        "outputId": "935b59c2-c64f-4ccf-d4d9-46a9c1ae055f"
      },
      "outputs": [
        {
          "name": "stdout",
          "output_type": "stream",
          "text": [
            "Epoch 1/20\n",
            "875/875 - 65s - loss: 0.7111 - accuracy: 0.5023 - val_loss: 0.6990 - val_accuracy: 0.5079 - 65s/epoch - 74ms/step\n",
            "Epoch 2/20\n",
            "875/875 - 62s - loss: 0.6794 - accuracy: 0.5388 - val_loss: 0.6643 - val_accuracy: 0.5543 - 62s/epoch - 71ms/step\n",
            "Epoch 3/20\n",
            "875/875 - 62s - loss: 0.6027 - accuracy: 0.6453 - val_loss: 0.4671 - val_accuracy: 0.8004 - 62s/epoch - 71ms/step\n",
            "Epoch 4/20\n",
            "875/875 - 63s - loss: 0.3271 - accuracy: 0.8664 - val_loss: 0.3177 - val_accuracy: 0.8641 - 63s/epoch - 72ms/step\n",
            "Epoch 5/20\n",
            "875/875 - 64s - loss: 0.2397 - accuracy: 0.9084 - val_loss: 0.3418 - val_accuracy: 0.8629 - 64s/epoch - 73ms/step\n",
            "Epoch 6/20\n",
            "875/875 - 62s - loss: 0.1909 - accuracy: 0.9323 - val_loss: 0.3314 - val_accuracy: 0.8671 - 62s/epoch - 71ms/step\n",
            "Epoch 7/20\n",
            "875/875 - 62s - loss: 0.1522 - accuracy: 0.9498 - val_loss: 0.4029 - val_accuracy: 0.8629 - 62s/epoch - 71ms/step\n",
            "Epoch 8/20\n",
            "875/875 - 71s - loss: 0.1173 - accuracy: 0.9642 - val_loss: 0.4204 - val_accuracy: 0.8583 - 71s/epoch - 81ms/step\n",
            "Epoch 9/20\n",
            "875/875 - 63s - loss: 0.0932 - accuracy: 0.9739 - val_loss: 0.5114 - val_accuracy: 0.8519 - 63s/epoch - 72ms/step\n",
            "Epoch 10/20\n",
            "875/875 - 67s - loss: 0.0762 - accuracy: 0.9801 - val_loss: 0.5196 - val_accuracy: 0.8534 - 67s/epoch - 77ms/step\n",
            "Epoch 11/20\n",
            "875/875 - 62s - loss: 0.0631 - accuracy: 0.9844 - val_loss: 0.5547 - val_accuracy: 0.8524 - 62s/epoch - 71ms/step\n",
            "Epoch 12/20\n",
            "875/875 - 62s - loss: 0.0567 - accuracy: 0.9861 - val_loss: 0.6284 - val_accuracy: 0.8484 - 62s/epoch - 71ms/step\n",
            "Epoch 13/20\n",
            "875/875 - 64s - loss: 0.0503 - accuracy: 0.9881 - val_loss: 0.6038 - val_accuracy: 0.8479 - 64s/epoch - 73ms/step\n",
            "Epoch 14/20\n",
            "875/875 - 63s - loss: 0.0470 - accuracy: 0.9895 - val_loss: 0.6167 - val_accuracy: 0.8467 - 63s/epoch - 72ms/step\n",
            "Epoch 15/20\n",
            "875/875 - 65s - loss: 0.0427 - accuracy: 0.9905 - val_loss: 0.6173 - val_accuracy: 0.8437 - 65s/epoch - 74ms/step\n",
            "Epoch 16/20\n",
            "875/875 - 63s - loss: 0.0381 - accuracy: 0.9917 - val_loss: 0.6886 - val_accuracy: 0.8453 - 63s/epoch - 72ms/step\n",
            "Epoch 17/20\n",
            "875/875 - 65s - loss: 0.0363 - accuracy: 0.9923 - val_loss: 0.6851 - val_accuracy: 0.8459 - 65s/epoch - 74ms/step\n",
            "Epoch 18/20\n",
            "875/875 - 66s - loss: 0.0324 - accuracy: 0.9937 - val_loss: 0.7720 - val_accuracy: 0.8414 - 66s/epoch - 76ms/step\n",
            "Epoch 19/20\n",
            "875/875 - 63s - loss: 0.0351 - accuracy: 0.9921 - val_loss: 0.6979 - val_accuracy: 0.8497 - 63s/epoch - 72ms/step\n",
            "Epoch 20/20\n",
            "875/875 - 63s - loss: 0.0335 - accuracy: 0.9928 - val_loss: 0.7492 - val_accuracy: 0.8489 - 63s/epoch - 72ms/step\n"
          ]
        }
      ],
      "source": [
        "  history1 = model1.fit(x_train,y_train, epochs=20, verbose=2, validation_split=0.2) "
      ]
    },
    {
      "cell_type": "code",
      "execution_count": null,
      "metadata": {
        "colab": {
          "background_save": true
        },
        "id": "T0sl0AL0vraw",
        "outputId": "804b6e3f-cd78-416e-f333-a00a1e9b0bd5"
      },
      "outputs": [
        {
          "data": {
            "image/png": "[encoded data removed]",
            "text/plain": [
              "<Figure size 432x288 with 1 Axes>"
            ]
          },
          "metadata": {},
          "output_type": "display_data"
        }
      ],
      "source": [
        "plt.plot(history1.history['accuracy']) \n",
        "plt.plot(history1.history['val_accuracy']) \n",
        "plt.title('model accuarcy') \n",
        "plt.xlabel('accuracy') \n",
        "plt.ylabel('epoch') \n",
        "plt.legend(['train', 'validation']) \n",
        "plt.show()"
      ]
    },
    {
      "cell_type": "code",
      "execution_count": null,
      "metadata": {
        "id": "a3PH2P05xhj7"
      },
      "outputs": [],
      "source": [
        "model2 = Sequential() \n",
        "model2.add(Embedding(vocab_size, embedding_dim)) \n",
        "model2.add(Conv1D(filters=32, kernel_size=5, strides=1, activation='relu')) model2.add(MaxPooling1D((2))) \n",
        "model2.add(LSTM(embedding_dim)) \n",
        "model2.add(Dense(128, activation= 'relu')) model2.add(Dense(6, activation='softmax')) \n"
      ]
    },
    {
      "cell_type": "code",
      "execution_count": null,
      "metadata": {
        "id": "ZmQY3rhszt8n"
      },
      "outputs": [],
      "source": [
        "mode12. summary()"
      ]
    },
    {
      "cell_type": "code",
      "execution_count": null,
      "metadata": {
        "id": "szR74d7uz2YU"
      },
      "outputs": [],
      "source": [
        "model2.compile (optimizer='adam',loss='sparse_categorical_crossentropy', metrics=['accuracy']\n"
      ]
    },
    {
      "cell_type": "code",
      "execution_count": null,
      "metadata": {
        "id": "8OvZK6wv0Gt0"
      },
      "outputs": [],
      "source": [
        "history2 = mode12. fit(x_train,y_train, epochs=10,validation_split=0.2, verbose=2) "
      ]
    }
  ],
  "metadata": {
    "colab": {
      "provenance": []
    },
    "kernelspec": {
      "display_name": "Python 3",
      "name": "python3"
    },
    "language_info": {
      "name": "python"
    }
  },
  "nbformat": 4,
  "nbformat_minor": 0
}